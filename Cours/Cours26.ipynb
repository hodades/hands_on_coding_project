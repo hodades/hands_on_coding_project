{
  "nbformat": 4,
  "nbformat_minor": 0,
  "metadata": {
    "colab": {
      "provenance": []
    },
    "kernelspec": {
      "name": "python3",
      "display_name": "Python 3"
    },
    "language_info": {
      "name": "python"
    }
  },
  "cells": [
    {
      "cell_type": "markdown",
      "source": [
        "Find the notion [here](https://fancy-falcon-0ce.notion.site/23_09_26-ff0152e9c0514515bec6ad6d96139ba6?pvs=4)"
      ],
      "metadata": {
        "id": "RV_lLyHqzivk"
      }
    },
    {
      "cell_type": "markdown",
      "source": [
        "# How to write code?"
      ],
      "metadata": {
        "id": "LtTmmJHvj1N-"
      }
    },
    {
      "cell_type": "code",
      "source": [
        "#The comments will start with a \"#\"\n",
        "#Data type:\n",
        "# Int\n",
        "2\n",
        "\n",
        "# float\n",
        "2.4\n",
        "# String\n",
        "\"hello\"\n",
        "\n",
        "# Boolean\n",
        "True"
      ],
      "metadata": {
        "id": "HrpjbDwLj0ut"
      },
      "execution_count": null,
      "outputs": []
    },
    {
      "cell_type": "markdown",
      "source": [
        "# Big calculator"
      ],
      "metadata": {
        "id": "Fuw1oU8ukgbw"
      }
    },
    {
      "cell_type": "markdown",
      "source": [
        "Using print will show the result of the computation even if it's not the last line written"
      ],
      "metadata": {
        "id": "F4yeFL_glGq0"
      }
    },
    {
      "cell_type": "code",
      "source": [
        "print(2+2)\n",
        "print(\"Hello world\")\n"
      ],
      "metadata": {
        "colab": {
          "base_uri": "https://localhost:8080/",
          "height": 53
        },
        "id": "WVI_sOaRkjbU",
        "outputId": "7b0cb4e2-1a5f-49ea-cc95-60ba529a23f1"
      },
      "execution_count": null,
      "outputs": [
        {
          "output_type": "stream",
          "name": "stdout",
          "text": [
            "4\n"
          ]
        },
        {
          "output_type": "execute_result",
          "data": {
            "text/plain": [
              "'Hello World'"
            ],
            "application/vnd.google.colaboratory.intrinsic+json": {
              "type": "string"
            }
          },
          "metadata": {},
          "execution_count": 4
        }
      ]
    },
    {
      "cell_type": "markdown",
      "source": [
        "Not using the function print() will show only the last row"
      ],
      "metadata": {
        "id": "bqjEc_eQlOnm"
      }
    },
    {
      "cell_type": "code",
      "source": [
        "2+2\n",
        "\"Hello World\""
      ],
      "metadata": {
        "id": "jYWAeA8QlBvj"
      },
      "execution_count": null,
      "outputs": []
    },
    {
      "cell_type": "code",
      "source": [
        "# What happen?\n",
        "print(2+\"2\")\n",
        "# Error: Because the data types are not matching\n",
        "\n"
      ],
      "metadata": {
        "colab": {
          "base_uri": "https://localhost:8080/",
          "height": 230
        },
        "id": "eoXNRzNFlrxU",
        "outputId": "d4dedcfb-7b44-4b08-f3c8-214cb501236e"
      },
      "execution_count": null,
      "outputs": [
        {
          "output_type": "error",
          "ename": "TypeError",
          "evalue": "ignored",
          "traceback": [
            "\u001b[0;31m---------------------------------------------------------------------------\u001b[0m",
            "\u001b[0;31mTypeError\u001b[0m                                 Traceback (most recent call last)",
            "\u001b[0;32m<ipython-input-6-9879cb00e805>\u001b[0m in \u001b[0;36m<cell line: 2>\u001b[0;34m()\u001b[0m\n\u001b[1;32m      1\u001b[0m \u001b[0;31m# What happen?\u001b[0m\u001b[0;34m\u001b[0m\u001b[0;34m\u001b[0m\u001b[0m\n\u001b[0;32m----> 2\u001b[0;31m \u001b[0mprint\u001b[0m\u001b[0;34m(\u001b[0m\u001b[0;36m2\u001b[0m\u001b[0;34m+\u001b[0m\u001b[0;34m\"2\"\u001b[0m\u001b[0;34m)\u001b[0m\u001b[0;34m\u001b[0m\u001b[0;34m\u001b[0m\u001b[0m\n\u001b[0m\u001b[1;32m      3\u001b[0m \u001b[0;31m# Error: Because the data types are not matching\u001b[0m\u001b[0;34m\u001b[0m\u001b[0;34m\u001b[0m\u001b[0m\n\u001b[1;32m      4\u001b[0m \u001b[0;34m\u001b[0m\u001b[0m\n",
            "\u001b[0;31mTypeError\u001b[0m: unsupported operand type(s) for +: 'int' and 'str'"
          ]
        }
      ]
    },
    {
      "cell_type": "code",
      "source": [
        "\n",
        "print(\"2\"+\"2\")\n",
        "# Concatenate 2 strings\n",
        "\n",
        "print(\"My name is\"+\" \"+\"Gamma\")"
      ],
      "metadata": {
        "id": "X2KepOIymqOZ"
      },
      "execution_count": null,
      "outputs": []
    },
    {
      "cell_type": "markdown",
      "source": [
        "# Let's start with variables\n",
        "\n",
        "\n",
        "<font color=\"#FF0000\">**Warning**:</font> Python is case sensitive. Hence `TRUE` is not the same as `True`.\n",
        "\n"
      ],
      "metadata": {
        "id": "c4KzyGPVnhaT"
      }
    },
    {
      "cell_type": "code",
      "source": [
        "x= 1\n",
        "print(x)\n",
        "\n",
        "#A"
      ],
      "metadata": {
        "colab": {
          "base_uri": "https://localhost:8080/"
        },
        "id": "XulGcM2mnku5",
        "outputId": "31e02dd3-558e-4092-e108-144c0e6b6a35"
      },
      "execution_count": null,
      "outputs": [
        {
          "output_type": "stream",
          "name": "stdout",
          "text": [
            "1\n"
          ]
        }
      ]
    },
    {
      "cell_type": "markdown",
      "source": [
        "# Functions\n",
        "Functions are scripts that are written to execute something specifif\n"
      ],
      "metadata": {
        "id": "YpZJiV8HJp66"
      }
    },
    {
      "cell_type": "code",
      "source": [
        "#In a sentece my function wiil return an age and a name\n",
        "def age_name(age, name):\n",
        "  res = \"My age is \"+str(age)+\" and my name is \" +str(name)\n",
        "  return(res)\n",
        "\n",
        "print(age_name(23,\"Yamine\"))\n",
        "age_name(name=\"Yamine\", age=23)"
      ],
      "metadata": {
        "colab": {
          "base_uri": "https://localhost:8080/",
          "height": 53
        },
        "id": "BzuvcP9NJyCE",
        "outputId": "cd20a008-425e-4208-ea10-8f40f96ce3c1"
      },
      "execution_count": null,
      "outputs": [
        {
          "output_type": "stream",
          "name": "stdout",
          "text": [
            "My age is 23 and my name is Yamine\n"
          ]
        },
        {
          "output_type": "execute_result",
          "data": {
            "text/plain": [
              "'My age is 23 and my name is Yamine'"
            ],
            "application/vnd.google.colaboratory.intrinsic+json": {
              "type": "string"
            }
          },
          "metadata": {},
          "execution_count": 25
        }
      ]
    },
    {
      "cell_type": "markdown",
      "source": [
        "# Local and global variable and  how to define a function"
      ],
      "metadata": {
        "id": "jAj-rfwXL4bP"
      }
    },
    {
      "cell_type": "markdown",
      "source": [
        "Global environment variables are the ones define outside the functions. They are the first value check outside a function.\n",
        "\n",
        "Local environment variables are the ones define **inside a function**. They are the first value inside the function where they were defined."
      ],
      "metadata": {
        "id": "rC1CpUs1N2Xs"
      }
    },
    {
      "cell_type": "code",
      "source": [
        "# res = 0 is the global variable\n",
        "# it will show this assignment to res\n",
        "# no matter what are the names of the variables inside the function\n",
        "res= 0\n",
        "def add_1(var_int):\n",
        "  \"\"\"\n",
        "  La fonction add_1, va ajouter 1 à une valeur numérique\n",
        "  \"\"\"\n",
        "  res = var_int+5\n",
        "  return(res)\n",
        "\n",
        "add_1(0)\n",
        "\n",
        "def add_1(var_int=0):\n",
        "\n",
        "  res = 0+5\n",
        "  return(5)\n",
        "res\n",
        "\n",
        "\n",
        "result= 0\n",
        "def add_1(var_int):\n",
        "  result = var_int+1\n",
        "  return(result)\n",
        "\n",
        "add_1(1)\n"
      ],
      "metadata": {
        "colab": {
          "base_uri": "https://localhost:8080/"
        },
        "id": "GB9e4z3TL35j",
        "outputId": "598fc808-953d-4748-b43e-0d988d95926c"
      },
      "execution_count": null,
      "outputs": [
        {
          "output_type": "execute_result",
          "data": {
            "text/plain": [
              "2"
            ]
          },
          "metadata": {},
          "execution_count": 29
        }
      ]
    },
    {
      "cell_type": "markdown",
      "source": [
        "# Conditional statement"
      ],
      "metadata": {
        "id": "Lnxo6ZooWY3y"
      }
    },
    {
      "cell_type": "code",
      "source": [
        "# if _cdn1 is true_:\n",
        "#    _action1_\n",
        "#    else:\n",
        "#    _action2_\n",
        "age = 16\n",
        "if age<18:\n",
        "  res= \"minor\"\n",
        "else:\n",
        "  res= \"major\"\n",
        "\n",
        "print(res)\n",
        "#5 switch from one function to the other one depending on which currency you want convert\n",
        "\n",
        "def euro_dollars(amount_euros) :\n",
        "\n",
        "  final_amount = amount_euros * 1.06\n",
        "  return final_amount\n",
        "\n",
        "def dollars_euro(dollar):\n",
        "    return dollar * 0.84\n",
        "\n",
        "def convert_dollar_euro(amount, is_dollar=True):\n",
        "  if is_dollar:\n",
        "     res = dollars_euro(amount)\n",
        "  else:\n",
        "     res=euro_dollars(amount)\n",
        "  return(res)\n",
        "\n",
        "\n",
        "print(convert_dollar_euro(3))\n",
        "print(convert_dollar_euro(3,False))"
      ],
      "metadata": {
        "colab": {
          "base_uri": "https://localhost:8080/"
        },
        "id": "lJyvHzyWWbo2",
        "outputId": "f7f35cfc-a6cb-4d1b-fb4f-d5274db901a4"
      },
      "execution_count": null,
      "outputs": [
        {
          "output_type": "stream",
          "name": "stdout",
          "text": [
            "minor\n",
            "2.52\n",
            "3.18\n"
          ]
        }
      ]
    },
    {
      "cell_type": "markdown",
      "source": [
        "# How to use a function"
      ],
      "metadata": {
        "id": "RNla1F5ygqbg"
      }
    },
    {
      "cell_type": "code",
      "source": [
        "# round works only with numbers\n",
        "round(\"ok\",\"okokok\")\n",
        "\n",
        "# len works only with string\n",
        "len(324)\n",
        "\n"
      ],
      "metadata": {
        "colab": {
          "base_uri": "https://localhost:8080/",
          "height": 248
        },
        "id": "F2_EShuygyZU",
        "outputId": "fa535b2c-98d3-40e3-b71c-0e863fd835ce"
      },
      "execution_count": null,
      "outputs": [
        {
          "output_type": "error",
          "ename": "TypeError",
          "evalue": "ignored",
          "traceback": [
            "\u001b[0;31m---------------------------------------------------------------------------\u001b[0m",
            "\u001b[0;31mTypeError\u001b[0m                                 Traceback (most recent call last)",
            "\u001b[0;32m<ipython-input-37-b7f0af3559cd>\u001b[0m in \u001b[0;36m<cell line: 2>\u001b[0;34m()\u001b[0m\n\u001b[1;32m      1\u001b[0m \u001b[0;31m# round works only with numbers\u001b[0m\u001b[0;34m\u001b[0m\u001b[0;34m\u001b[0m\u001b[0m\n\u001b[0;32m----> 2\u001b[0;31m \u001b[0mround\u001b[0m\u001b[0;34m(\u001b[0m\u001b[0;34m\"ok\"\u001b[0m\u001b[0;34m,\u001b[0m\u001b[0;34m\"okokok\"\u001b[0m\u001b[0;34m)\u001b[0m\u001b[0;34m\u001b[0m\u001b[0;34m\u001b[0m\u001b[0m\n\u001b[0m\u001b[1;32m      3\u001b[0m \u001b[0;34m\u001b[0m\u001b[0m\n\u001b[1;32m      4\u001b[0m \u001b[0;31m# len\u001b[0m\u001b[0;34m\u001b[0m\u001b[0;34m\u001b[0m\u001b[0m\n\u001b[1;32m      5\u001b[0m \u001b[0mlen\u001b[0m\u001b[0;34m(\u001b[0m\u001b[0;36m324\u001b[0m\u001b[0;34m)\u001b[0m\u001b[0;34m\u001b[0m\u001b[0;34m\u001b[0m\u001b[0m\n",
            "\u001b[0;31mTypeError\u001b[0m: type str doesn't define __round__ method"
          ]
        }
      ]
    },
    {
      "cell_type": "code",
      "source": [
        "# minimum\n",
        "min(3,4,5,2,5)\n",
        "\n",
        "# maximum\n",
        "max(3,4,5,2,5)\n",
        "\n",
        "# count the number of characters\n",
        "len(\"coucou ca va?\")\n",
        "\n",
        "# to transform to string\n",
        "str(9)\n",
        "\n",
        "# to transform to an integer\n",
        "int(\"9\")\n",
        "\n",
        "# Add a doc string to a function\n",
        "# doc string means documentation of the function\n",
        "def convert_dollar_euro(amount, is_dollar=True):\n",
        "  \"\"\"\n",
        "\n",
        "  The function convert_dollar_euro has 2 arguments:\n",
        "  amount: is the amount that you have to convert\n",
        "  is_dollar: is the currency of your amount.\n",
        "  If is_dollar is true, you will convert in euro.\n",
        "  If not, you will convert in dollar\n",
        "\n",
        "  \"\"\"\n",
        "  if is_dollar:\n",
        "     res = dollars_euro(amount)\n",
        "  else:\n",
        "     res=euro_dollars(amount)\n",
        "  return(res)\n",
        "# To help you to understand a function\n",
        "help(convert_dollar_euro)"
      ],
      "metadata": {
        "colab": {
          "base_uri": "https://localhost:8080/"
        },
        "id": "Gsxfyc3Lhls5",
        "outputId": "257b134a-fe47-4dca-ce1a-3fd2463a466c"
      },
      "execution_count": null,
      "outputs": [
        {
          "output_type": "stream",
          "name": "stdout",
          "text": [
            "Help on function convert_dollar_euro in module __main__:\n",
            "\n",
            "convert_dollar_euro(amount, is_dollar=True)\n",
            "    The function convert_dollar_euro has 2 arguments:\n",
            "    amount: is the amount that you have to convert\n",
            "    is_dollar: is the currency of your amount.\n",
            "    If is_dollar is true, you will convert in euro. \n",
            "    If not, you will convert in dollar\n",
            "\n"
          ]
        }
      ]
    },
    {
      "cell_type": "code",
      "source": [
        "\n",
        "int(\"9\")"
      ],
      "metadata": {
        "colab": {
          "base_uri": "https://localhost:8080/"
        },
        "id": "WOAgWhKoiRUI",
        "outputId": "0fb43961-f047-42a5-8003-22414a3fc78d"
      },
      "execution_count": null,
      "outputs": [
        {
          "output_type": "execute_result",
          "data": {
            "text/plain": [
              "9"
            ]
          },
          "metadata": {},
          "execution_count": 41
        }
      ]
    }
  ]
}