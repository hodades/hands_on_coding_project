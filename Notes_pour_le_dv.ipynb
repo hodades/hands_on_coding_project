{
  "nbformat": 4,
  "nbformat_minor": 0,
  "metadata": {
    "colab": {
      "provenance": [],
      "authorship_tag": "ABX9TyPBvfx28/v9rO2dIJWkD2bo",
      "include_colab_link": true
    },
    "kernelspec": {
      "name": "python3",
      "display_name": "Python 3"
    },
    "language_info": {
      "name": "python"
    }
  },
  "cells": [
    {
      "cell_type": "markdown",
      "metadata": {
        "id": "view-in-github",
        "colab_type": "text"
      },
      "source": [
        "<a href=\"https://colab.research.google.com/github/hodades/hands_on_coding_project/blob/main/Notes_pour_le_dv.ipynb\" target=\"_parent\"><img src=\"https://colab.research.google.com/assets/colab-badge.svg\" alt=\"Open In Colab\"/></a>"
      ]
    },
    {
      "cell_type": "code",
      "execution_count": null,
      "metadata": {
        "id": "X8EveY-yUID9"
      },
      "outputs": [],
      "source": [
        "import panda as pd\n",
        "#.... commencer par renomer avec des variables propre sur les tables !\n",
        "df_ts_rename(dict_nom_col,axis=1)"
      ]
    }
  ]
}