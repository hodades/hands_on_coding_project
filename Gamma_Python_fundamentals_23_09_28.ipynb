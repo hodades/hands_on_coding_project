{
  "cells": [
    {
      "cell_type": "markdown",
      "metadata": {
        "id": "view-in-github",
        "colab_type": "text"
      },
      "source": [
        "<a href=\"https://colab.research.google.com/github/axgervais/hands_on_coding_project/blob/main/Gamma_Python_fundamentals_23_09_28.ipynb\" target=\"_parent\"><img src=\"https://colab.research.google.com/assets/colab-badge.svg\" alt=\"Open In Colab\"/></a>"
      ]
    },
    {
      "cell_type": "markdown",
      "metadata": {
        "id": "UFMrM9DakZzx"
      },
      "source": [
        "# WHILE LOOP"
      ]
    },
    {
      "cell_type": "code",
      "execution_count": null,
      "metadata": {
        "colab": {
          "base_uri": "https://localhost:8080/"
        },
        "id": "Qqqwc033dtkA",
        "outputId": "14c403ae-a626-4d2f-8ee7-c90e81c5bf74"
      },
      "outputs": [
        {
          "name": "stdout",
          "output_type": "stream",
          "text": [
            "For loop\n",
            "1\n",
            "2\n",
            "3\n",
            "4\n",
            "5\n",
            "6\n",
            "7\n",
            "8\n",
            "9\n",
            "10\n",
            "While loop\n",
            "1\n",
            "2\n",
            "3\n",
            "4\n",
            "5\n",
            "6\n",
            "7\n",
            "8\n",
            "9\n",
            "10\n"
          ]
        }
      ],
      "source": [
        "# for loop print from 1 to 10\n",
        "print(\"For loop\")\n",
        "for i in range(1,11):\n",
        "  print(i)\n",
        "\n",
        "\n",
        "# while loop print from 1 to 10\n",
        "print(\"While loop\")\n",
        "i=1\n",
        "while i<11:\n",
        "  print(i)\n",
        "  i=i+1 # i+=1 la même chose"
      ]
    },
    {
      "cell_type": "code",
      "execution_count": null,
      "metadata": {
        "colab": {
          "base_uri": "https://localhost:8080/"
        },
        "id": "n5mKUUfH5egH",
        "outputId": "debb1718-5687-4a0a-e7b0-64363639e569"
      },
      "outputs": [
        {
          "name": "stdout",
          "output_type": "stream",
          "text": [
            "1\n",
            "3\n",
            "5\n",
            "7\n",
            "9\n",
            "11\n",
            "13\n",
            "15\n",
            "17\n",
            "19\n",
            "error in odd_or_event parameter\n",
            "3\n",
            "3\n",
            "3\n",
            "3\n",
            "3\n"
          ]
        }
      ],
      "source": [
        "def n_print(n,odd_or_even):\n",
        "    i = 1\n",
        "    while i<=n:\n",
        "      if odd_or_even == \"impair\" and i%2!=0:\n",
        "            print(i)\n",
        "      elif odd_or_even == \"pair\" and i%2==0:\n",
        "            print(i)\n",
        "      i=i+1\n",
        "\n",
        "n_print(19,\"impair\")\n",
        "\n",
        "\n",
        "# we can stop the loop by adding a break keyword in a while or a for loop\n",
        "# to prevent errors or infinite loops\n",
        "\n",
        "def n_print(n,odd_or_even):\n",
        "    i = 1\n",
        "    while i<=n:\n",
        "      if odd_or_even == \"impair\" and i%2!=0:\n",
        "            print(i)\n",
        "      elif odd_or_even == \"pair\" and i%2==0:\n",
        "            print(i)\n",
        "      elif odd_or_even != \"pair\" and odd_or_even != \"impair\":\n",
        "        print(\"error in odd_or_event parameter\")\n",
        "        break\n",
        "      i=i+1\n",
        "\n",
        "n_print(19,\"imopair\")\n",
        "\n"
      ]
    },
    {
      "cell_type": "markdown",
      "metadata": {
        "id": "Ra7-I7VjGDGd"
      },
      "source": [
        "## Rappel: Local and global variable"
      ]
    },
    {
      "cell_type": "code",
      "execution_count": null,
      "metadata": {
        "colab": {
          "base_uri": "https://localhost:8080/"
        },
        "id": "PSdCc9x0GJhb",
        "outputId": "476bbc9d-44d4-479f-cc20-1b86b2ebe4ca"
      },
      "outputs": [
        {
          "name": "stdout",
          "output_type": "stream",
          "text": [
            "0\n",
            "1\n",
            "2\n",
            "3\n",
            "4\n",
            "3\n",
            "3\n",
            "3\n",
            "3\n",
            "3\n",
            "3\n",
            "3\n",
            "3\n"
          ]
        }
      ],
      "source": [
        "# i is define as a global variable and his value is 3\n",
        "# i is used as a variable in the for loop and takes the value of range(5)\n",
        "# The i in the for loop is a local variable\n",
        "# The print statement will first look for a local i variable\n",
        "# and if it doesn't exist it will look for a global one\n",
        "\n",
        "# example 1 where the printed value is the local variable\n",
        "i = 3\n",
        "for i in range(5):\n",
        "  print(i)\n",
        "\n",
        "\n",
        "# example 2 where the printed value is the global variable\n",
        "i = 3\n",
        "for j in [0,True,0,i,\"2\",2,2,2]:\n",
        "  print(i)"
      ]
    },
    {
      "cell_type": "markdown",
      "metadata": {
        "id": "0HpxDqBdJkCO"
      },
      "source": [
        "# Dictionary"
      ]
    },
    {
      "cell_type": "code",
      "execution_count": null,
      "metadata": {
        "colab": {
          "base_uri": "https://localhost:8080/"
        },
        "id": "-5dQuCYjI5qh",
        "outputId": "81270d36-cad7-46e0-91fb-50f22e38a7b0"
      },
      "outputs": [
        {
          "name": "stdout",
          "output_type": "stream",
          "text": [
            "{'hallway': 11.25, 'kitchen': 18}\n",
            "{'hallway': 11.25, 'kitchen': 18.0, 'living room': 20.0, 'bedroom': 10.75, 'bathroom': 9.5, 'poolsize': 9.5}\n"
          ]
        }
      ],
      "source": [
        "area_size = [11.25, 18.0, 20.0, 10.75, 9.50, 9.50]\n",
        "area_name = [\"hallway\", \"kitchen\", \"living room\", \"bedroom\", \"bathroom\", \"poolsize\"]\n",
        "\n",
        "# created a dictionary\n",
        "dict_area = dict()\n",
        "dict_area = {\"hallway\":11.25, \"kitchen\":18}\n",
        "print(dict_area)\n",
        "# return the value associated to kitchen\n",
        "dict_area[\"kitchen\"]\n",
        "\n",
        "dict_area = {\"Tarzs\":[20, 20, 15], \"Yasmine\":[18,20]}\n",
        "dict_area[\"Tarzs\"][1]\n",
        "\n",
        "dict_area = {\"hallway\":11.25, \"kitchen\":18}\n",
        "dict_area\n",
        "\n",
        "new_dict = dict()\n",
        "\n",
        "# method 1\n",
        "for i in range(len(area_name)):\n",
        "  new_dict[area_name[i]]=area_size[i]\n",
        "\n",
        "\n",
        "\n",
        "print(new_dict)\n"
      ]
    },
    {
      "cell_type": "code",
      "execution_count": null,
      "metadata": {
        "colab": {
          "base_uri": "https://localhost:8080/"
        },
        "id": "FyZ7Yd3qOEe4",
        "outputId": "d153e6ba-c5ff-4243-c9bd-c48e49ad85d8"
      },
      "outputs": [
        {
          "data": {
            "text/plain": [
              "{'coco': 2, 'banane': 5, 'fraise': 25}"
            ]
          },
          "execution_count": 44,
          "metadata": {},
          "output_type": "execute_result"
        }
      ],
      "source": [
        "def lower_dict(new_dict):\n",
        "  # transform the keys to a list and lowercase them\n",
        "  key = new_dict.keys()\n",
        "  key_list = list(key)\n",
        "  lower_key_list = [unit_key.lower() for unit_key in key_list]\n",
        "\n",
        "  # transform the values to a list\n",
        "  value_list = list(new_dict.values())\n",
        "\n",
        "  # key = list(new_dict.keys()).lower()\n",
        "  # create a dictionary\n",
        "  new_dict = dict()\n",
        "  for i in range(len(value_list)):\n",
        "    new_dict[lower_key_list[i]]=value_list[i]\n",
        "  return new_dict\n",
        "\n",
        "lower_dict({\"Coco\":2, \"Banane\":5, \"Fraise\":25})\n",
        "\n",
        "\n",
        "def lower_dict(new_dict):\n",
        "  # transform the keys to a list and lowercase them\n",
        "  key_list = list(new_dict.keys)\n",
        "  lower_key_list = [unit_key.lower() for unit_key in key_list]\n",
        "\n",
        "  # transform the values to a list\n",
        "  value_list = list(new_dict.values())\n",
        "\n",
        "  # key = list(new_dict.keys()).lower()\n",
        "  # create a dictionary\n",
        "  new_dict = dict()\n",
        "  for i in range(len(value_list)):\n",
        "    new_dict[lower_key_list[i]]=value_list[i]\n",
        "  return new_dict\n",
        "\n",
        "\n",
        "\n"
      ]
    },
    {
      "cell_type": "code",
      "execution_count": null,
      "metadata": {
        "colab": {
          "base_uri": "https://localhost:8080/"
        },
        "id": "LxwYIb7zNdPv",
        "outputId": "234709ae-9624-4878-ddb1-591ec3f8f7dd"
      },
      "outputs": [
        {
          "data": {
            "text/plain": [
              "dict_keys"
            ]
          },
          "execution_count": 43,
          "metadata": {},
          "output_type": "execute_result"
        }
      ],
      "source": [
        "type(dict_area.keys())"
      ]
    },
    {
      "cell_type": "markdown",
      "metadata": {
        "id": "jEKRo7qkyMdJ"
      },
      "source": [
        "# Handle string like a list"
      ]
    },
    {
      "cell_type": "code",
      "execution_count": null,
      "metadata": {
        "colab": {
          "base_uri": "https://localhost:8080/",
          "height": 35
        },
        "id": "NGCBftBMNb5T",
        "outputId": "f9f60667-f849-4e60-c770-0e827f8a5c03"
      },
      "outputs": [
        {
          "data": {
            "application/vnd.google.colaboratory.intrinsic+json": {
              "type": "string"
            },
            "text/plain": [
              "'Alb'"
            ]
          },
          "execution_count": 46,
          "metadata": {},
          "output_type": "execute_result"
        }
      ],
      "source": [
        "name =\"Albert\"\n",
        "type(name)\n",
        "\n",
        "name[0:3]"
      ]
    },
    {
      "cell_type": "markdown",
      "metadata": {
        "id": "l2EFVTK_yjv4"
      },
      "source": [
        "# Tuple\n"
      ]
    },
    {
      "cell_type": "code",
      "execution_count": null,
      "metadata": {
        "colab": {
          "base_uri": "https://localhost:8080/"
        },
        "id": "W5avqyScNYZL",
        "outputId": "1c58525f-0281-4caa-f4b6-2ee7a9466a23"
      },
      "outputs": [
        {
          "name": "stdout",
          "output_type": "stream",
          "text": [
            "(1, 2)\n",
            "La longueur est 10\n",
            "La largeur est 5\n"
          ]
        },
        {
          "data": {
            "text/plain": [
              "6"
            ]
          },
          "execution_count": 64,
          "metadata": {},
          "output_type": "execute_result"
        }
      ],
      "source": [
        "x=(1,2)\n",
        "print(x)\n",
        "type(x)\n",
        "x[0]\n",
        "x[1]\n",
        "\n",
        "aire_rect = (5,10,5,5,5,5,True, \"coucou\")\n",
        "\n",
        "l,L = (5,10)\n",
        "print(\"La longueur est\",L)\n",
        "print(\"La largeur est\",l)\n",
        "\n",
        "\n",
        "# 2 Write a Python function that takes a dictionary as input and\n",
        "# returns a new dictionary where all the values have been doubled.\n",
        "\n",
        "def double_val_dic(dico):\n",
        "  new_dict = {}\n",
        "  for dict_item in list(dico.items()):\n",
        "    new_dict[dict_item[0]]= 2*dict_item[1]\n",
        "  return new_dict\n",
        "\n",
        "double_val_dic({1:1, 2:2, 3:3})\n",
        "\n",
        "aire_rect.index(True)"
      ]
    },
    {
      "cell_type": "markdown",
      "metadata": {
        "id": "IH1RBKpJ2sh-"
      },
      "source": [
        "## Set\n"
      ]
    },
    {
      "cell_type": "code",
      "execution_count": null,
      "metadata": {
        "colab": {
          "background_save": true,
          "base_uri": "https://localhost:8080/"
        },
        "id": "K7K8j0pbztQA",
        "outputId": "5feaf196-10e0-4427-b4b8-d09742798793"
      },
      "outputs": [
        {
          "name": "stdout",
          "output_type": "stream",
          "text": [
            "[2, 2, 2, 2, 4, 5]\n",
            "6\n",
            "{2, 4, 5}\n",
            "3\n"
          ]
        },
        {
          "data": {
            "text/plain": [
              "{2}"
            ]
          },
          "execution_count": 70,
          "metadata": {},
          "output_type": "execute_result"
        }
      ],
      "source": [
        "s = set()\n",
        "s = {}\n",
        "\n",
        "s1 = {2,4,5}\n",
        "s2 = {2,6,9}\n",
        "l = [2,2,2,2,4,5]\n",
        "s_to_l = set(l)\n",
        "print(l)\n",
        "print(len(l))\n",
        "print(s_to_l)\n",
        "print(len(s_to_l))\n",
        "\n",
        "s1.difference()"
      ]
    },
    {
      "cell_type": "code",
      "execution_count": null,
      "metadata": {
        "id": "xtHXqooU0wiw"
      },
      "outputs": [],
      "source": [
        "[('Marcus Garvey Park', ('Black', 'Cinnamon', 'Cleaning', None)),\n",
        " ('Highbridge Park',\n",
        "  ('Gray',\n",
        "   'Cinnamon',\n",
        "   'Running, Eating',\n",
        "   'Runs From, watches us in short tree')),\n",
        " ('Madison Square Park', ('Gray', None, 'Foraging', 'Indifferent')),\n",
        " ('City Hall Park', ('Gray', 'Cinnamon', 'Eating', 'Approaches')),\n",
        " ('J. Hood Wright Park', ('Gray', 'White', 'Running', 'Indifferent')),\n",
        " ('Seward Park', ('Gray', 'Cinnamon', 'Eating', 'Indifferent')),\n",
        " ('Union Square Park', ('Gray', 'Black', 'Climbing', None)),\n",
        " ('Tompkins Square Park', ('Gray', 'Gray', 'Lounging', 'Approaches'))]"
      ]
    },
    {
      "cell_type": "code",
      "execution_count": null,
      "metadata": {
        "id": "lP2Hb-SwM_yI"
      },
      "outputs": [],
      "source": []
    },
    {
      "cell_type": "code",
      "execution_count": null,
      "metadata": {
        "id": "_Yl_1rjPMHfn"
      },
      "outputs": [],
      "source": []
    },
    {
      "cell_type": "code",
      "execution_count": null,
      "metadata": {
        "id": "uwEM-TJrMEHf"
      },
      "outputs": [],
      "source": []
    },
    {
      "cell_type": "code",
      "execution_count": null,
      "metadata": {
        "id": "mAGi3nVXL722"
      },
      "outputs": [],
      "source": []
    },
    {
      "cell_type": "code",
      "execution_count": null,
      "metadata": {
        "id": "Q8XSWwTbL3Vu"
      },
      "outputs": [],
      "source": []
    },
    {
      "cell_type": "code",
      "execution_count": null,
      "metadata": {
        "id": "6o0fshDlLzTZ"
      },
      "outputs": [],
      "source": []
    },
    {
      "cell_type": "code",
      "execution_count": null,
      "metadata": {
        "id": "40nEjxCELtXJ"
      },
      "outputs": [],
      "source": []
    },
    {
      "cell_type": "code",
      "execution_count": null,
      "metadata": {
        "id": "YcctGwWRLq7Q"
      },
      "outputs": [],
      "source": []
    },
    {
      "cell_type": "code",
      "execution_count": null,
      "metadata": {
        "id": "zeh1fTwbLnRR"
      },
      "outputs": [],
      "source": []
    },
    {
      "cell_type": "code",
      "execution_count": null,
      "metadata": {
        "id": "uzCcsvmuK7FU"
      },
      "outputs": [],
      "source": []
    },
    {
      "cell_type": "markdown",
      "metadata": {
        "id": "aD3TN3MNhLRy"
      },
      "source": [
        "# Boolean\n",
        "\n",
        "It will work exactly like the **WHERE** clause in SQL"
      ]
    },
    {
      "cell_type": "code",
      "execution_count": null,
      "metadata": {
        "colab": {
          "base_uri": "https://localhost:8080/"
        },
        "id": "yhbd7kiKf3dP",
        "outputId": "90796128-3d08-41d2-aa8a-04086eb80860"
      },
      "outputs": [
        {
          "name": "stdout",
          "output_type": "stream",
          "text": [
            "True\n",
            "False\n"
          ]
        }
      ],
      "source": [
        "def is_even(number):\n",
        "    return number % 2 == 0\n",
        "\n",
        "print(is_even(2))\n",
        "print(is_even(3))\n",
        "\n",
        "\n"
      ]
    },
    {
      "cell_type": "markdown",
      "metadata": {
        "id": "dNoS4766i7ae"
      },
      "source": [
        "# List\n",
        "the list are composed of different elements called items"
      ]
    },
    {
      "cell_type": "code",
      "execution_count": null,
      "metadata": {
        "colab": {
          "base_uri": "https://localhost:8080/"
        },
        "id": "oX3D7Np6jCIB",
        "outputId": "5edaee2b-58df-4ef7-a0a6-ebb4f2b0fbdf"
      },
      "outputs": [
        {
          "name": "stdout",
          "output_type": "stream",
          "text": [
            "[1, 2, 'e']\n",
            "[1, 2, 'e', 'Hello']\n",
            "[1, 2, 'e']\n",
            "[2, 'e']\n"
          ]
        }
      ],
      "source": [
        "# the type is list\n",
        "type([1,2,3,4,7])\n",
        "\n",
        "# assign l to a list\n",
        "l = [1,2,3,4,7,5]\n",
        "\n",
        "# check what is the first value of l\n",
        "l[0]\n",
        "\n",
        "# let's change the 3rd value to 1\n",
        "l[2] = 1\n",
        "l\n",
        "\n",
        "# let's see the value of the last element\n",
        "l[-1]\n",
        "\n",
        "# let's see all the elements before the last one\n",
        "l[:-1]\n",
        "l[0:-1] # Galaad\n",
        "\n",
        "# let's see all the elements from the 3 position to the end\n",
        "l[2:]\n",
        "\n",
        "\n",
        "# let's reverse the order of the list l\n",
        "l[::-1]\n",
        "\n",
        "# let's take the 2 first elements and reverse the order\n",
        "l[0:2][::-1]\n",
        "l[0:2:-1] # doesn't work because first it reverse the list\n",
        "l[0:2:-1]\n",
        "\n",
        "# slice the list. Let's work only on the sub list from the 1st to the 3rd position\n",
        "l[0:2] # Going from position 1 to position 2\n",
        "l[0:3] # Going from position 1 to position 3\n",
        "[l[0],l[3]] # Taking only values of position 1 and position 4\n",
        "\n",
        "# Create a list with boolean, int, float and string\n",
        "new_list = [True,1,2.5,\"abc\"]\n",
        "new_list\n",
        "\n",
        "# Create a list of a list\n",
        "\n",
        "even_odd_list = [1,3,5,7,2,4,6]\n",
        "even_odd_list = [[1,3,5,7],[2,4,6]]\n",
        "# Retrieve the 2nd element of the 2nd list\n",
        "even_odd_list[1][1]\n",
        "\n",
        "new_list = [[1,3,5,7],[2,4,[1,3,5,7],[2,4,6],6],[2,4,6]]\n",
        "\n",
        "\n"
      ]
    },
    {
      "cell_type": "code",
      "execution_count": null,
      "metadata": {
        "colab": {
          "base_uri": "https://localhost:8080/"
        },
        "id": "Sh466BmO-aj2",
        "outputId": "6d107219-0abb-48e0-f690-a588aa207096"
      },
      "outputs": [
        {
          "data": {
            "text/plain": [
              "[3, 2, 1]"
            ]
          },
          "execution_count": 60,
          "metadata": {},
          "output_type": "execute_result"
        }
      ],
      "source": [
        "l = [1,2,3,4,7]\n",
        "new_l = l[2::-1]\n",
        "new_l"
      ]
    },
    {
      "cell_type": "code",
      "execution_count": null,
      "metadata": {
        "colab": {
          "base_uri": "https://localhost:8080/"
        },
        "id": "uEghiXJ98_Hl",
        "outputId": "690b9b5f-a813-42cc-a99f-959eddf9f962"
      },
      "outputs": [
        {
          "data": {
            "text/plain": [
              "['hallway', 11.25, 'kitchen', 18.0, 'living room', 20.0, 'bedroom', 10.75]"
            ]
          },
          "execution_count": 31,
          "metadata": {},
          "output_type": "execute_result"
        }
      ],
      "source": [
        "hall = 11.25\n",
        "kit = 18.0\n",
        "liv = 20.0\n",
        "bed = 10.75\n",
        "bath = 9.50\n",
        "areas = [\"hallway\", hall, \"kitchen\", kit, \"living room\", liv,\n",
        "         \"bedroom\", bed, \"bathroom\", bath]\n",
        "\n",
        "areas[-4:]\n",
        "areas[:-2]"
      ]
    },
    {
      "cell_type": "markdown",
      "metadata": {
        "id": "pyqm5A3k31BV"
      },
      "source": [
        "## The methods\n",
        "\n"
      ]
    },
    {
      "cell_type": "code",
      "execution_count": null,
      "metadata": {
        "id": "Z47WOgVc360U"
      },
      "outputs": [],
      "source": [
        "new_list2 = [1,2,\"e\"]\n",
        "print(new_list2)\n",
        "# ajouter l'item \"Hello\"\n",
        "new_list2.append(\"Hello\")\n",
        "print(new_list2)\n",
        "\n",
        "# Enlever le dernier item ajouté dans la liste\n",
        "new_list2.pop()\n",
        "print(new_list2)\n",
        "\n",
        "# To know the index, we use the index method\n",
        "# I want to the position of \"e\"\n",
        "new_list2.index(\"e\")\n",
        "\n",
        "# To remove one specific element\n",
        "# Let's remove 1\n",
        "new_list2.remove(1)\n",
        "print(new_list2)"
      ]
    },
    {
      "cell_type": "markdown",
      "metadata": {
        "id": "1tc0rLjuhxyM"
      },
      "source": [
        "# Condition statement\n",
        "With more than 2 options"
      ]
    },
    {
      "cell_type": "code",
      "execution_count": null,
      "metadata": {
        "colab": {
          "base_uri": "https://localhost:8080/"
        },
        "id": "4bOvEbbVTdIi",
        "outputId": "afb4ffa6-a5f5-470a-b363-b4c77fa0f96b"
      },
      "outputs": [
        {
          "name": "stdout",
          "output_type": "stream",
          "text": [
            "10.75\n",
            "Try again with a correct room name\n"
          ]
        },
        {
          "data": {
            "text/plain": [
              "45"
            ]
          },
          "execution_count": 72,
          "metadata": {},
          "output_type": "execute_result"
        }
      ],
      "source": [
        "\n",
        "def surface_room(room_name):\n",
        " if room_name== \"hallway\" :\n",
        "   res = hall\n",
        " elif room_name == \"kitchen\" :\n",
        "   res = kit\n",
        " elif room_name == \"living room\" :\n",
        "   res = liv\n",
        " elif room_name == \"bathroom\" :\n",
        "   res = bath\n",
        " elif room_name == \"bedroom\" :\n",
        "   res = bed\n",
        " else :\n",
        "   res = \"Try again with a correct room name\"\n",
        " return res\n",
        "\n",
        "print(surface_room(\"bedroom\"))\n",
        "print(surface_room(\"BEDROOM\"))\n"
      ]
    },
    {
      "cell_type": "markdown",
      "metadata": {
        "id": "kC-5Ixtjh_FD"
      },
      "source": [
        "# For LOOP"
      ]
    },
    {
      "cell_type": "code",
      "execution_count": null,
      "metadata": {
        "colab": {
          "base_uri": "https://localhost:8080/"
        },
        "id": "VRVQeLZtiL2Q",
        "outputId": "88bab02f-ce8a-44cb-9fd4-f3365410383d"
      },
      "outputs": [
        {
          "name": "stdout",
          "output_type": "stream",
          "text": [
            "11.25\n",
            "18.0\n",
            "20.0\n",
            "10.75\n",
            "9.5\n"
          ]
        }
      ],
      "source": [
        "areas_name = [\"hallway\", \"kitchen\", \"living room\", \"bedroom\", \"bathroom\"]\n",
        "\n",
        "def surface_room (room_name) :\n",
        "  room_name = room_name.lower()\n",
        "  if room_name ==\"hallway\":\n",
        "    result = hall\n",
        "  elif room_name ==\"kitchen\":\n",
        "        result = kit\n",
        "  elif room_name ==\"living room\":\n",
        "         result = liv\n",
        "  elif room_name ==\"bathroom\":\n",
        "        result = bath\n",
        "  elif room_name ==\"bedroom\":\n",
        "        result = bed\n",
        "  else :\n",
        "      result =\"Try again with a correst room name\"\n",
        "  return result\n",
        "\n",
        "surface_room(\"hall\")\n",
        "surface_room(\"kit\")\n",
        "surface_room(\"liv\")\n",
        "\n",
        "#for i in areas_name:\n",
        "#  print(i,\": \", surface_room(i))\n",
        "\n",
        "\n",
        "for i in range(len(areas_name)):\n",
        "  print(surface_room(areas_name[i]))"
      ]
    },
    {
      "cell_type": "markdown",
      "metadata": {
        "id": "7j98FqZYx-V8"
      },
      "source": [
        "## List Comprhension"
      ]
    },
    {
      "cell_type": "code",
      "execution_count": null,
      "metadata": {
        "colab": {
          "base_uri": "https://localhost:8080/"
        },
        "id": "O-25TZ2RgZm5",
        "outputId": "89347e15-4458-4ae1-842d-8948a3705816"
      },
      "outputs": [
        {
          "name": "stdout",
          "output_type": "stream",
          "text": [
            "[11.25, 18.0, 20.0, 10.75, 9.5]\n",
            "['hallway', 'kitchen', 'living room', 'bedroom', 'bathroom']\n"
          ]
        },
        {
          "data": {
            "text/plain": [
              "[9.5]"
            ]
          },
          "execution_count": 94,
          "metadata": {},
          "output_type": "execute_result"
        }
      ],
      "source": [
        "surface_list =[]\n",
        "for i in areas_name:\n",
        "  surface_list.append(surface_room(i))\n",
        "\n",
        "# list comprehension\n",
        "print([surface_room(room) for room in areas_name])\n",
        "\n",
        "# add a condition\n",
        "print(areas_name)\n",
        "[surface_room(room) for room in areas_name if len(room)<10 and len(room)>7]\n"
      ]
    },
    {
      "cell_type": "code",
      "execution_count": null,
      "metadata": {
        "colab": {
          "base_uri": "https://localhost:8080/"
        },
        "id": "s6xF7-jvwXvd",
        "outputId": "8ea9b868-6a01-43a1-d104-067275b86e37"
      },
      "outputs": [
        {
          "data": {
            "text/plain": [
              "list[0]"
            ]
          },
          "execution_count": 85,
          "metadata": {},
          "output_type": "execute_result"
        }
      ],
      "source": [
        "max = list[0]\n",
        "max"
      ]
    }
  ],
  "metadata": {
    "colab": {
      "provenance": [],
      "include_colab_link": true
    },
    "kernelspec": {
      "display_name": "Python 3",
      "name": "python3"
    },
    "language_info": {
      "name": "python"
    }
  },
  "nbformat": 4,
  "nbformat_minor": 0
}